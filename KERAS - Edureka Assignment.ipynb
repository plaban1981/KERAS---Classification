{
 "cells": [
  {
   "cell_type": "markdown",
   "metadata": {},
   "source": [
    "# Trains and evaluate a simple MLP on the Reuters newswire topic classification task.\n",
    "\n",
    "Dataset of 11,228 newswires from Reuters, labeled over 46 topics.\n",
    "\n",
    "Returns 2 types data:\n",
    "\n",
    "x_train and  x_test - list of sequences, which are lists of indexes (integers).\n",
    "\n",
    "y_train and y_test - list of integer labels (0 to 45)."
   ]
  },
  {
   "cell_type": "code",
   "execution_count": 61,
   "metadata": {},
   "outputs": [],
   "source": [
    "import numpy as np\n",
    "import keras\n",
    "from keras.datasets import reuters\n",
    "from keras.models import Sequential\n",
    "from keras.layers import Dense, Dropout, Activation\n",
    "from termcolor import colored"
   ]
  },
  {
   "cell_type": "code",
   "execution_count": 62,
   "metadata": {
    "collapsed": true
   },
   "outputs": [],
   "source": [
    "def show_shapes(x_train, y_train, x_test, y_test, color='green'):\n",
    "    print(colored('Training shape:', color, attrs=['bold']))\n",
    "    print('  x_train.shape:', x_train.shape)\n",
    "    print('  y_train.shape:', y_train.shape)\n",
    "    print(colored('\\nTesting shape:', color, attrs=['bold']))\n",
    "    print('  x_test.shape:', x_test.shape)\n",
    "    print('  y_test.shape:', y_test.shape)"
   ]
  },
  {
   "cell_type": "code",
   "execution_count": 63,
   "metadata": {
    "collapsed": true
   },
   "outputs": [],
   "source": [
    "def show_sample(x_train, y_train, idx=0, color='blue'):\n",
    "    print(colored('x_train sample:', color, attrs=['bold']))\n",
    "    print(x_train[idx])\n",
    "    print(colored('\\ny_train sample:', color, attrs=['bold']))\n",
    "    print(y_train[idx])"
   ]
  },
  {
   "cell_type": "code",
   "execution_count": 64,
   "metadata": {},
   "outputs": [],
   "source": [
    "(x_train, y_train), (x_test, y_test) = reuters.load_data()\n"
   ]
  },
  {
   "cell_type": "code",
   "execution_count": 65,
   "metadata": {},
   "outputs": [
    {
     "name": "stdout",
     "output_type": "stream",
     "text": [
      "\u001b[1m\u001b[32mTraining shape:\u001b[0m\n",
      "  x_train.shape: (8982,)\n",
      "  y_train.shape: (8982,)\n",
      "\u001b[1m\u001b[32m\n",
      "Testing shape:\u001b[0m\n",
      "  x_test.shape: (2246,)\n",
      "  y_test.shape: (2246,)\n",
      "\n",
      "******************************\n",
      "\n",
      "\u001b[1m\u001b[34mx_train sample:\u001b[0m\n",
      "[1, 3267, 699, 3434, 2295, 56, 16784, 7511, 9, 56, 3906, 1073, 81, 5, 1198, 57, 366, 737, 132, 20, 4093, 7, 19261, 49, 2295, 13415, 1037, 3267, 699, 3434, 8, 7, 10, 241, 16, 855, 129, 231, 783, 5, 4, 587, 2295, 13415, 30625, 775, 7, 48, 34, 191, 44, 35, 1795, 505, 17, 12]\n",
      "\u001b[1m\u001b[34m\n",
      "y_train sample:\u001b[0m\n",
      "4\n"
     ]
    }
   ],
   "source": [
    "show_shapes(x_train, y_train, x_test, y_test)\n",
    "print('\\n******************************\\n')\n",
    "show_sample(x_train, y_train, idx=1)"
   ]
  },
  {
   "cell_type": "code",
   "execution_count": 66,
   "metadata": {},
   "outputs": [
    {
     "name": "stdout",
     "output_type": "stream",
     "text": [
      "46 classes\n"
     ]
    }
   ],
   "source": [
    "num_classes = np.max(y_train) + 1\n",
    "print(num_classes, 'classes')"
   ]
  },
  {
   "cell_type": "code",
   "execution_count": 67,
   "metadata": {},
   "outputs": [
    {
     "name": "stdout",
     "output_type": "stream",
     "text": [
      "Vectorizing sequence data...\n",
      "x_train shape: (8982, 1000)\n",
      "x_test shape: (2246, 1000)\n",
      "\n",
      "******************************\n",
      "\n",
      "Convert class vector to binary class matrix (for use with categorical_crossentropy)\n",
      "\n",
      "******************************\n",
      "\n",
      "\n",
      "******************************\n",
      "\n",
      "y_train shape: (8982, 46)\n",
      "y_test shape: (2246, 46)\n"
     ]
    }
   ],
   "source": [
    "from keras.preprocessing.text import Tokenizer\n",
    "max_words = 1000\n",
    "batch_size = 32\n",
    "epochs = 5\n",
    "print('Vectorizing sequence data...')\n",
    "\n",
    "'''\n",
    "Tokenizer - This class allows to vectorize a text corpus, by turning each text into a sequence of integers \n",
    "num_words: the maximum number of words to keep, based on word frequency. \n",
    "Only the most common `num_words` words will be kept.\n",
    "\n",
    "'''\n",
    "\n",
    "tokenizer = Tokenizer(num_words=max_words)\n",
    "\n",
    "#Converts a list of sequences into a Numpy matrix using tokenizer.sequences_to_matrix\n",
    "x_train = tokenizer.sequences_to_matrix(x_train, mode='binary')\n",
    "x_test = tokenizer.sequences_to_matrix(x_test, mode='binary')\n",
    "\n",
    "print('x_train shape:', x_train.shape)\n",
    "print('x_test shape:', x_test.shape)\n",
    "print('\\n******************************\\n')\n",
    "print('Convert class vector to binary class matrix '\n",
    "      '(for use with categorical_crossentropy)')\n",
    "print('\\n******************************\\n')\n",
    "y_train = keras.utils.to_categorical(y_train, num_classes)\n",
    "y_test = keras.utils.to_categorical(y_test, num_classes)\n",
    "print('\\n******************************\\n')\n",
    "print('y_train shape:', y_train.shape)\n",
    "print('y_test shape:', y_test.shape)\n"
   ]
  },
  {
   "cell_type": "code",
   "execution_count": 68,
   "metadata": {},
   "outputs": [
    {
     "name": "stdout",
     "output_type": "stream",
     "text": [
      "Building model...\n"
     ]
    }
   ],
   "source": [
    "print('Building model...')\n",
    "model = Sequential()\n",
    "model.add(Dense(512, input_shape=(max_words,)))\n",
    "model.add(Activation('relu'))\n",
    "model.add(Dropout(0.5))\n",
    "model.add(Dense(num_classes))\n",
    "model.add(Activation('softmax'))"
   ]
  },
  {
   "cell_type": "code",
   "execution_count": 69,
   "metadata": {
    "collapsed": true
   },
   "outputs": [],
   "source": [
    "model.compile(loss='binary_crossentropy', optimizer='adam', metrics=['accuracy'])"
   ]
  },
  {
   "cell_type": "code",
   "execution_count": 70,
   "metadata": {},
   "outputs": [
    {
     "name": "stdout",
     "output_type": "stream",
     "text": [
      "Train on 8083 samples, validate on 899 samples\n",
      "Epoch 1/5\n",
      "8083/8083 [==============================] - 5s 576us/step - loss: 0.0436 - acc: 0.9885 - val_loss: 0.0345 - val_acc: 0.9903\n",
      "Epoch 2/5\n",
      "8083/8083 [==============================] - 4s 539us/step - loss: 0.0264 - acc: 0.9925 - val_loss: 0.0304 - val_acc: 0.9915\n",
      "Epoch 3/5\n",
      "8083/8083 [==============================] - 4s 547us/step - loss: 0.0195 - acc: 0.9943 - val_loss: 0.0291 - val_acc: 0.9918\n",
      "Epoch 4/5\n",
      "8083/8083 [==============================] - 5s 570us/step - loss: 0.0153 - acc: 0.9956 - val_loss: 0.0287 - val_acc: 0.9921\n",
      "Epoch 5/5\n",
      "8083/8083 [==============================] - 5s 560us/step - loss: 0.0124 - acc: 0.9963 - val_loss: 0.0299 - val_acc: 0.9919\n"
     ]
    }
   ],
   "source": [
    "\n",
    "history = model.fit(x_train, y_train,\n",
    "                    batch_size=batch_size,\n",
    "                    epochs=epochs,\n",
    "                    verbose=1,\n",
    "                    validation_split=0.1)\n"
   ]
  },
  {
   "cell_type": "code",
   "execution_count": 71,
   "metadata": {},
   "outputs": [
    {
     "name": "stdout",
     "output_type": "stream",
     "text": [
      "2246/2246 [==============================] - 0s 121us/step\n",
      "Test score: 0.029557424702765362\n",
      "Test accuracy: 0.9918793022154913\n"
     ]
    }
   ],
   "source": [
    "#scoring the model\n",
    "score = model.evaluate(x_test, y_test,\n",
    "                       batch_size=batch_size, verbose=1)\n",
    "print('Test score:', score[0])\n",
    "print('Test accuracy:', score[1])"
   ]
  },
  {
   "cell_type": "code",
   "execution_count": 72,
   "metadata": {},
   "outputs": [
    {
     "name": "stdout",
     "output_type": "stream",
     "text": [
      "2246/2246 [==============================] - 0s 131us/step\n"
     ]
    }
   ],
   "source": [
    "# predictions\n",
    "predictions = model.predict(x_test,batch_size=batch_size,verbose=1)"
   ]
  },
  {
   "cell_type": "code",
   "execution_count": 73,
   "metadata": {},
   "outputs": [
    {
     "data": {
      "text/plain": [
       "array([[4.5224665e-06, 6.6651855e-06, 3.9775696e-08, ..., 9.2698123e-08,\n",
       "        1.8257314e-08, 1.0373899e-07],\n",
       "       [4.3695550e-03, 2.7142791e-02, 1.1779716e-01, ..., 1.1422976e-05,\n",
       "        2.1401420e-05, 1.8974653e-04],\n",
       "       [5.2423376e-05, 9.9429178e-01, 9.1717673e-05, ..., 5.4077959e-06,\n",
       "        1.0180253e-05, 7.7340273e-06],\n",
       "       ...,\n",
       "       [2.3582978e-05, 3.5150547e-04, 2.7706354e-05, ..., 9.9711579e-06,\n",
       "        4.5883667e-06, 1.8667630e-05],\n",
       "       [2.7315789e-03, 2.1219974e-02, 2.6843280e-03, ..., 1.2953189e-04,\n",
       "        9.1713919e-05, 1.5116598e-04],\n",
       "       [2.9209952e-04, 7.4542016e-01, 7.3268302e-03, ..., 7.7719640e-05,\n",
       "        1.9456425e-05, 7.4511729e-05]], dtype=float32)"
      ]
     },
     "execution_count": 73,
     "metadata": {},
     "output_type": "execute_result"
    }
   ],
   "source": [
    "predictions"
   ]
  },
  {
   "cell_type": "code",
   "execution_count": 74,
   "metadata": {},
   "outputs": [],
   "source": [
    "pred = predictions.flatten()"
   ]
  },
  {
   "cell_type": "code",
   "execution_count": 75,
   "metadata": {
    "collapsed": true
   },
   "outputs": [],
   "source": [
    "pred = pred.astype(int)"
   ]
  },
  {
   "cell_type": "code",
   "execution_count": 76,
   "metadata": {},
   "outputs": [
    {
     "data": {
      "text/plain": [
       "array([0, 0, 0, ..., 0, 0, 0])"
      ]
     },
     "execution_count": 76,
     "metadata": {},
     "output_type": "execute_result"
    }
   ],
   "source": [
    "pred"
   ]
  },
  {
   "cell_type": "code",
   "execution_count": 77,
   "metadata": {},
   "outputs": [],
   "source": [
    "#---> used flatten since data has to be one dimensional\n",
    "import pandas as pd \n",
    "df_predictions = pd.DataFrame({\"True_Values\" : y_test.flatten().astype(int),\n",
    "                               \"Predictions\":predictions.flatten().astype(int)})"
   ]
  },
  {
   "cell_type": "code",
   "execution_count": 78,
   "metadata": {},
   "outputs": [
    {
     "data": {
      "text/html": [
       "<div>\n",
       "<style>\n",
       "    .dataframe thead tr:only-child th {\n",
       "        text-align: right;\n",
       "    }\n",
       "\n",
       "    .dataframe thead th {\n",
       "        text-align: left;\n",
       "    }\n",
       "\n",
       "    .dataframe tbody tr th {\n",
       "        vertical-align: top;\n",
       "    }\n",
       "</style>\n",
       "<table border=\"1\" class=\"dataframe\">\n",
       "  <thead>\n",
       "    <tr style=\"text-align: right;\">\n",
       "      <th></th>\n",
       "      <th>Predictions</th>\n",
       "      <th>True_Values</th>\n",
       "    </tr>\n",
       "  </thead>\n",
       "  <tbody>\n",
       "    <tr>\n",
       "      <th>0</th>\n",
       "      <td>0</td>\n",
       "      <td>0</td>\n",
       "    </tr>\n",
       "    <tr>\n",
       "      <th>1</th>\n",
       "      <td>0</td>\n",
       "      <td>0</td>\n",
       "    </tr>\n",
       "    <tr>\n",
       "      <th>2</th>\n",
       "      <td>0</td>\n",
       "      <td>0</td>\n",
       "    </tr>\n",
       "    <tr>\n",
       "      <th>3</th>\n",
       "      <td>0</td>\n",
       "      <td>1</td>\n",
       "    </tr>\n",
       "    <tr>\n",
       "      <th>4</th>\n",
       "      <td>0</td>\n",
       "      <td>0</td>\n",
       "    </tr>\n",
       "  </tbody>\n",
       "</table>\n",
       "</div>"
      ],
      "text/plain": [
       "   Predictions  True_Values\n",
       "0            0            0\n",
       "1            0            0\n",
       "2            0            0\n",
       "3            0            1\n",
       "4            0            0"
      ]
     },
     "execution_count": 78,
     "metadata": {},
     "output_type": "execute_result"
    }
   ],
   "source": [
    "df_predictions.head()"
   ]
  }
 ],
 "metadata": {
  "kernelspec": {
   "display_name": "Python 3",
   "language": "python",
   "name": "python3"
  },
  "language_info": {
   "codemirror_mode": {
    "name": "ipython",
    "version": 3
   },
   "file_extension": ".py",
   "mimetype": "text/x-python",
   "name": "python",
   "nbconvert_exporter": "python",
   "pygments_lexer": "ipython3",
   "version": "3.5.4"
  }
 },
 "nbformat": 4,
 "nbformat_minor": 2
}
